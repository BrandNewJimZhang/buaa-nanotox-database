{
 "cells": [
  {
   "cell_type": "code",
   "execution_count": 1,
   "metadata": {},
   "outputs": [],
   "source": [
    "import pandas as pd\n",
    "\n",
    "import os"
   ]
  },
  {
   "cell_type": "code",
   "execution_count": 3,
   "metadata": {},
   "outputs": [
    {
     "name": "stdout",
     "output_type": "stream",
     "text": [
      "['Genome_Phaeodactylum_tricornutum', 'Genome_anabaena', 'Genome_Sea_urchin', 'Genome_Raphidocelis_Subcapitata', 'Genome_Daphnia_galeata', 'Genome_Nitrosomonas_europaea ATCC 19718', '.DS_Store', 'Genome_cyprinus_carpio', 'Genome_Staphylococcus_aureus', 'Genome_Escherichia_Coli', '使用手册.docx', 'Genome_Oreochromis_niloticus', 'Genome_Pseudomonas_putida', 'Genome_Pseudomonas _aeruginosa', '2019_GCF_020631705.1_ASM2063170v1.1_protein.faa.out.csv', 'Daphnia_Pulex.xlsx', 'pantherChartBP.xlsx', 'PANTHER物种列表.xlsx', 'Genome_Oncorhynchus_mykiss', 'Genome_Daphnia_Pulex', 'Genome_Vibrio_Fischeri', 'Genome_daphnia_magna', 'Genome_Mytilus_galloprovincialis', 'Genome_Photobacterium_phosphoreum', 'Genome_Diatom', 'Genome_oryzias_latipes', 'Genome_Chlorella_vulgaris', 'TreeSample.xlsx', 'Genome_Lytechinus_pictus', 'Genome_Caenorhabditis_elegans', 'Genome_Bacillus_altitudinis', 'Genome_Raphanus_sativus', 'Chlamydomonas_reinhardtii.xlsx', 'Genome_Arthrobacter_globiformis', 'Panther_参考文献', 'Genome_Bacillus_subtilis', 'Genome_danio_rerio', 'Genome_tetrahymena_thermophila', 'Genome_Lolium_perenne', 'Genome_Brachionus_calyciflorus']\n"
     ]
    }
   ],
   "source": [
    "path = '/Users/jimzhang/downloads/PantherData/'\n",
    "\n",
    "print(os.listdir(path))"
   ]
  },
  {
   "cell_type": "code",
   "execution_count": 54,
   "metadata": {},
   "outputs": [
    {
     "name": "stdout",
     "output_type": "stream",
     "text": [
      "PT_PC.xlsx\n",
      "PT_MF.xlsx\n",
      "PT_BP.xlsx\n",
      "Anabaena_BP.xlsx\n",
      "Anabeana_MF.xlsx\n",
      "SU_MF.xlsx\n",
      "SU_BP.xlsx\n",
      "SU_PC.xlsx\n",
      "RS_MF.xlsx\n",
      "RS_BP.xlsx\n",
      "DG_MF.xlsx\n",
      "DG_BP.xlsx\n",
      "DG_PC.xlsx\n",
      "NE_BP.xlsx\n",
      "NE_MF.xlsx\n",
      "NE_PC.xlsx\n",
      "CC_PC.xlsx\n",
      "CC_MF.xlsx\n",
      "CC_BP.xlsx\n",
      "SA_MF.xlsx\n",
      "SA_BP.xlsx\n",
      "SA_PC.xlsx\n",
      "ON_MF.xlsx\n",
      "ON_BP.xlsx\n",
      "ON_PC.xlsx\n",
      "PP_BP.xlsx\n",
      "PP_MF.xlsx\n",
      "PA_PC.xlsx\n",
      "PA_MF.xlsx\n",
      "PA_BP.xlsx\n",
      "OM_BP.xlsx\n",
      "OM_MF.xlsx\n",
      "OM_PC.xlsx\n",
      "DP_BP.xlsx\n",
      "DP_MF.xlsx\n",
      "DP_PC.xlsx\n",
      "VF_BP.xlsx\n",
      "VF_MF.xlsx\n",
      "DM_BP.xlsx\n",
      "DM_MF.xlsx\n",
      "MG_PC.xlsx\n",
      "MG_MF.xlsx\n",
      "MG_BP.xlsx\n",
      "PP_BP.xlsx\n",
      "PP_MF.xlsx\n",
      "PP_PC.xlsx\n",
      "Diatom_MF.xlsx\n",
      "Diatom_BP.xlsx\n",
      "Diatom_PC.xlsx\n",
      "OL_BP.xlsx\n",
      "OL_MF.xlsx\n",
      "OL_PC.xlsx\n",
      "CV_PC.xlsx\n",
      "CV_MF.xlsx\n",
      "CV_BP.xlsx\n",
      "LP_PC.xlsx\n",
      "LP_BP.xlsx\n",
      "LP_MF.xlsx\n",
      "CE_MF.xlsx\n",
      "CE_BP.xlsx\n",
      "CE_PC.xlsx\n",
      "BA_PC.xlsx\n",
      "BA_BP.xlsx\n",
      "BA_MF.xlsx\n",
      "RS_PC.xlsx\n",
      "RS_MF.xlsx\n",
      "RS_BP.xlsx\n",
      "AG_PC.xlsx\n",
      "AG_BP.xlsx\n",
      "AG_MF.xlsx\n",
      "PS_MF.xlsx\n",
      "BS_BP.xlsx\n",
      "BS_PC.xlsx\n",
      "DR_MF.xlsx\n",
      "DR_BP.xlsx\n",
      "DR_PC.xlsx\n",
      "TT_BP.xlsx\n",
      "TT_MF.xlsx\n",
      "TT_PC.xlsx\n",
      "LP_PC.xlsx\n",
      "LP_BP.xlsx\n",
      "LP_MF.xlsx\n",
      "BC_PC.xlsx\n",
      "BC_MF.xlsx\n",
      "BC_BP.xlsx\n"
     ]
    }
   ],
   "source": [
    "def process(path: str) -> None:\n",
    "    subdir = os.listdir(path)\n",
    "    for _file in subdir:\n",
    "        if _file.endswith(('BP.xlsx', 'MF.xlsx', 'PC.xlsx')):\n",
    "            print(_file)\n",
    "            df = pd.read_excel(path + '/' + _file, header=None)\n",
    "            new_columns = ['category', 'Number of genes', 'Percentage', 'Genes']\n",
    "            new_df = pd.DataFrame(columns=new_columns)\n",
    "            new_df['category'] = df[1]\n",
    "            new_df['Number of genes'] = df[2]\n",
    "            new_df['Percentage'] = df[3]\n",
    "            try:\n",
    "                new_df['Genes'] = df[4]\n",
    "            except KeyError as e:\n",
    "                new_df['Genes'] = pd.NA\n",
    "            try:\n",
    "                new_df.to_csv(f'public/panther-data/{path.split(\"/\")[-1].strip(\"Genome_\")}/{_file.strip(\".xlsx\").split(\"_\")[-1]}.csv', index=False)\n",
    "            except OSError as e:\n",
    "                os.mkdir(f'public/panther-data/{path.split(\"/\")[-1].strip(\"Genome_\")}')\n",
    "                new_df.to_csv(f'public/panther-data/{path.split(\"/\")[-1].strip(\"Genome_\")}/{_file.strip(\".xlsx\").split(\"_\")[-1]}.csv', index=False)\n",
    "\n",
    "for subdir in os.listdir(path):\n",
    "    try:\n",
    "        process(os.path.join(path, subdir))\n",
    "    except NotADirectoryError:\n",
    "        continue"
   ]
  },
  {
   "cell_type": "code",
   "execution_count": 50,
   "metadata": {},
   "outputs": [
    {
     "name": "stdout",
     "output_type": "stream",
     "text": [
      "['Arthrobacter_globiformis', 'Bacillus_altitudinis', 'Bacillus_subtilis', 'Brachionus_calyciflorus', 'Caenorhabditis_elegans', 'Chlorella_vulgaris', 'Daphnia_Pulex', 'Daphnia_galeata', 'Diat', 'Lolium_per', 'Lytechinus_pictus', 'Mytilus_galloprovincialis', 'Nitrosomonas_europaea ATCC 19718', 'Oncorhynchus_mykiss', 'Oreochromis_niloticus', 'Phaeodactylum_tricornutu', 'Photobacterium_phosphoreu', 'Pseudomonas _aeruginosa', 'Pseudomonas_putida', 'Raphanus_sativus', 'Raphidocelis_Subcapitata', 'Sea_urchi', 'Staphylococcus_aureus', 'Vibrio_Fischeri', 'anabaena', 'cyprinus_carpi', 'danio_reri', 'daphnia_magna', 'ryzias_latipes', 'tetrahymena_thermophila']\n"
     ]
    }
   ],
   "source": [
    "print(sorted(os.listdir('public/panther-data/')))"
   ]
  }
 ],
 "metadata": {
  "kernelspec": {
   "display_name": "Python 3",
   "language": "python",
   "name": "python3"
  },
  "language_info": {
   "codemirror_mode": {
    "name": "ipython",
    "version": 3
   },
   "file_extension": ".py",
   "mimetype": "text/x-python",
   "name": "python",
   "nbconvert_exporter": "python",
   "pygments_lexer": "ipython3",
   "version": "3.11.5"
  }
 },
 "nbformat": 4,
 "nbformat_minor": 2
}
